{
 "cells": [
  {
   "cell_type": "markdown",
   "id": "7934796e",
   "metadata": {},
   "source": [
    "# TEXT ANALYSIS USING PYTHON (FIRST MINI PROJECT)"
   ]
  },
  {
   "cell_type": "raw",
   "id": "76f794c9",
   "metadata": {},
   "source": [
    "# Let's get started!"
   ]
  },
  {
   "cell_type": "code",
   "execution_count": 73,
   "id": "ce53784b",
   "metadata": {},
   "outputs": [
    {
     "name": "stdout",
     "output_type": "stream",
     "text": [
      "{'nonumy': 1, 'labore': 1, 'diam': 5, 'consetetur': 1, 'lorem': 2, 'magna': 2, 'dolor': 1, 'amet': 2, 'sed': 1, 'tempor': 1, 'eirmod': 1, 'ipsum': 1, 'et': 3}\n",
      "The Word lorem appeared 2 times.\n"
     ]
    }
   ],
   "source": [
    "giventext = \"Lorem ipsum dolor! diam amet, consetetur Lorem magna. sed diam nonumy eirmod tempor. diam et labore? et diam magna. et diam amet.\"\n",
    "\n",
    "#creating class named TextAnalyzer Objet\n",
    "class TextAnalyzer(object):\n",
    "    \n",
    "    def __init__(self, text):\n",
    "        #removing punctuation from texts\n",
    "        formattedText = text.replace(',','').replace('.','').replace('!','').replace('?','')\n",
    "    \n",
    "        #converting text to lowercase\n",
    "        formattedText = formattedText.lower()\n",
    "    \n",
    "        self.fmtText = formattedText\n",
    "    \n",
    "    def freqAll(self):\n",
    "        #split text into words\n",
    "        wordList = self.fmtText.split(' ')\n",
    "    \n",
    "        #creating dictionary\n",
    "        freqMap = {}\n",
    "        for word in set(wordList):\n",
    "            freqMap[word] = wordList.count(word)\n",
    "        return freqMap\n",
    "        \n",
    "        \n",
    "    #To get frequency\n",
    "    def freqOf(self, word):\n",
    "        freqDict = self.freqAll()\n",
    "    \n",
    "        if word in freqDict:\n",
    "            return freqDict[word]\n",
    "        else:\n",
    "            return 0\n",
    "\n",
    "analyzed = TextAnalyzer(giventext)\n",
    "\n",
    "freqMap = analyzed.freqAll()\n",
    "print(freqMap)\n",
    "\n",
    "word = 'lorem'\n",
    "frequency = analyzed.freqOf(word)\n",
    "print(\"The Word\",word,\"appeared\",frequency,\"times.\")"
   ]
  },
  {
   "cell_type": "code",
   "execution_count": null,
   "id": "8d8d28e9",
   "metadata": {},
   "outputs": [],
   "source": []
  }
 ],
 "metadata": {
  "kernelspec": {
   "display_name": "Python 3 (ipykernel)",
   "language": "python",
   "name": "python3"
  },
  "language_info": {
   "codemirror_mode": {
    "name": "ipython",
    "version": 3
   },
   "file_extension": ".py",
   "mimetype": "text/x-python",
   "name": "python",
   "nbconvert_exporter": "python",
   "pygments_lexer": "ipython3",
   "version": "3.11.3"
  }
 },
 "nbformat": 4,
 "nbformat_minor": 5
}
